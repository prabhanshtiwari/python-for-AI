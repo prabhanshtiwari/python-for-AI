{
  "cells": [
    {
      "cell_type": "code",
      "execution_count": null,
      "metadata": {
        "id": "e1RilRDtm6jf"
      },
      "outputs": [],
      "source": [
        "# This is a commented line\n",
        "# print(\"Hello\")"
      ]
    },
    {
      "cell_type": "code",
      "execution_count": null,
      "metadata": {
        "id": "bAY8XYsQn7oK"
      },
      "outputs": [],
      "source": [
        "'''\n",
        "  This is the first line of comment\n",
        "  This is the second line of the comment\n",
        "  This is the third line of the comment\n",
        "'''"
      ]
    },
    {
      "cell_type": "code",
      "execution_count": null,
      "metadata": {
        "colab": {
          "base_uri": "https://localhost:8080/",
          "height": 53
        },
        "id": "ZbvQ-Rf2oHrs",
        "outputId": "67282b87-6b94-4583-9ff9-01c11d47df25"
      },
      "outputs": [
        {
          "name": "stdout",
          "output_type": "stream",
          "text": [
            "Vishwa\n"
          ]
        },
        {
          "data": {
            "application/vnd.google.colaboratory.intrinsic+json": {
              "type": "string"
            },
            "text/plain": [
              "'Vishwa'"
            ]
          },
          "execution_count": 5,
          "metadata": {},
          "output_type": "execute_result"
        }
      ],
      "source": [
        "input()"
      ]
    },
    {
      "cell_type": "code",
      "execution_count": null,
      "metadata": {
        "colab": {
          "base_uri": "https://localhost:8080/",
          "height": 53
        },
        "id": "Wm3_HM6LoUFR",
        "outputId": "fdd4cfd2-f3ea-4717-868a-b5b9a16177e4"
      },
      "outputs": [
        {
          "ename": "",
          "evalue": "",
          "output_type": "error",
          "traceback": [
            "\u001b[1;31mRunning cells with 'c:\\Program Files\\Python311\\python.exe' requires the ipykernel package.\n",
            "\u001b[1;31mRun the following command to install 'ipykernel' into the Python environment. \n",
            "\u001b[1;31mCommand: '\"c:/Program Files/Python311/python.exe\" -m pip install ipykernel -U --user --force-reinstall'"
          ]
        }
      ],
      "source": [
        "input()\n"
      ]
    },
    {
      "cell_type": "code",
      "execution_count": null,
      "metadata": {
        "colab": {
          "base_uri": "https://localhost:8080/"
        },
        "id": "5v-f7hcUojct",
        "outputId": "b1a0a505-eb26-4287-efc1-244f0116f274"
      },
      "outputs": [
        {
          "name": "stdout",
          "output_type": "stream",
          "text": [
            "Vishwa Mohan\n",
            "Vishwa Mohan\n"
          ]
        }
      ],
      "source": [
        "name = input()\n",
        "\n",
        "print(name)"
      ]
    },
    {
      "cell_type": "code",
      "execution_count": null,
      "metadata": {
        "colab": {
          "base_uri": "https://localhost:8080/"
        },
        "id": "yOS6ZDklouDi",
        "outputId": "6fbee01e-a87e-4873-d7e1-a7b9ae800b56"
      },
      "outputs": [
        {
          "name": "stdout",
          "output_type": "stream",
          "text": [
            "Please sir, enter your age in years99\n"
          ]
        }
      ],
      "source": [
        "age = input(\"Please sir, enter your age in years\")"
      ]
    },
    {
      "cell_type": "code",
      "execution_count": null,
      "metadata": {
        "colab": {
          "base_uri": "https://localhost:8080/"
        },
        "id": "eQgKNT_-o17f",
        "outputId": "a78807aa-a380-4994-d49a-5d648cd6e09c"
      },
      "outputs": [
        {
          "name": "stdout",
          "output_type": "stream",
          "text": [
            "99\n"
          ]
        }
      ],
      "source": [
        "print(age)"
      ]
    },
    {
      "cell_type": "markdown",
      "metadata": {
        "id": "dlLmHv65o0Ja"
      },
      "source": []
    },
    {
      "cell_type": "code",
      "execution_count": null,
      "metadata": {
        "colab": {
          "base_uri": "https://localhost:8080/"
        },
        "id": "qt85uo5Mo7Pn",
        "outputId": "8079ba2a-ce6c-4bcb-fc31-93b79dd84172"
      },
      "outputs": [
        {
          "name": "stdout",
          "output_type": "stream",
          "text": [
            "I am Vishwa\n"
          ]
        }
      ],
      "source": [
        "#Output in the world of Python\n",
        "print(\"I am Vishwa\")"
      ]
    },
    {
      "cell_type": "code",
      "execution_count": null,
      "metadata": {
        "colab": {
          "base_uri": "https://localhost:8080/"
        },
        "id": "PV8UEjm1pDa9",
        "outputId": "f98b984b-58a2-41b9-c031-1ac8e256ad50"
      },
      "outputs": [
        {
          "name": "stdout",
          "output_type": "stream",
          "text": [
            "Hello, my name is  Vishwa and my age is  99\n"
          ]
        }
      ],
      "source": [
        "name = \"Vishwa\"\n",
        "age = 99\n",
        "\n",
        "print(\"Hello, my name is \", name, \"and my age is \", age)"
      ]
    },
    {
      "cell_type": "code",
      "execution_count": null,
      "metadata": {
        "colab": {
          "base_uri": "https://localhost:8080/"
        },
        "id": "jpzBX9ILpXQx",
        "outputId": "422d9a01-36e7-4b83-8dad-48c578ee854c"
      },
      "outputs": [
        {
          "name": "stdout",
          "output_type": "stream",
          "text": [
            "My name is Vishwa and age is 99\n"
          ]
        }
      ],
      "source": [
        "#Support for the formatted string\n",
        "\n",
        "print(f\"My name is {name} and age is {age}\")"
      ]
    },
    {
      "cell_type": "code",
      "execution_count": 1,
      "metadata": {
        "colab": {
          "base_uri": "https://localhost:8080/"
        },
        "id": "DtRbZYrspnzf",
        "outputId": "1d16fee9-e82e-4cb8-df0e-8acb8231afe2"
      },
      "outputs": [
        {
          "name": "stdout",
          "output_type": "stream",
          "text": [
            "2$3$4\n"
          ]
        }
      ],
      "source": [
        "x=2\n",
        "y=3\n",
        "z=4\n",
        "print(x,y,z,sep=\"$\")"
      ]
    },
    {
      "cell_type": "code",
      "execution_count": null,
      "metadata": {
        "colab": {
          "base_uri": "https://localhost:8080/"
        },
        "id": "ZT0DpVt0pwte",
        "outputId": "d3deb395-80b2-4883-e1d5-c6dc8c03800f"
      },
      "outputs": [
        {
          "ename": "",
          "evalue": "",
          "output_type": "error",
          "traceback": [
            "\u001b[1;31mRunning cells with 'c:\\Program Files\\Python311\\python.exe' requires the ipykernel package.\n",
            "\u001b[1;31mRun the following command to install 'ipykernel' into the Python environment. \n",
            "\u001b[1;31mCommand: '\"c:/Program Files/Python311/python.exe\" -m pip install ipykernel -U --user --force-reinstall'"
          ]
        }
      ],
      "source": [
        "print(\"Hello\", end=\" \")\n",
        "print(\"World\", end=\" \")\n",
        "print(\"!\")"
      ]
    }
  ],
  "metadata": {
    "colab": {
      "provenance": []
    },
    "kernelspec": {
      "display_name": "Python 3",
      "name": "python3"
    },
    "language_info": {
      "codemirror_mode": {
        "name": "ipython",
        "version": 3
      },
      "file_extension": ".py",
      "mimetype": "text/x-python",
      "name": "python",
      "nbconvert_exporter": "python",
      "pygments_lexer": "ipython3",
      "version": "3.11.2"
    }
  },
  "nbformat": 4,
  "nbformat_minor": 0
}
