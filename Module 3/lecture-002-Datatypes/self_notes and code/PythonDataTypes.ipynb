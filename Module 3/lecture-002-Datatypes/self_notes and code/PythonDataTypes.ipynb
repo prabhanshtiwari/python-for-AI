{
  "nbformat": 4,
  "nbformat_minor": 0,
  "metadata": {
    "colab": {
      "provenance": []
    },
    "kernelspec": {
      "name": "python3",
      "display_name": "Python 3"
    },
    "language_info": {
      "name": "python"
    }
  },
  "cells": [
    {
      "cell_type": "code",
      "execution_count": 8,
      "metadata": {
        "colab": {
          "base_uri": "https://localhost:8080/"
        },
        "id": "PsxqYRnLvXAa",
        "outputId": "7d812afb-3319-429b-9a2f-71f390fea224"
      },
      "outputs": [
        {
          "output_type": "stream",
          "name": "stdout",
          "text": [
            "5\n"
          ]
        }
      ],
      "source": [
        "# numerical datatype\n",
        "x = 5 #int\n",
        "print(x)"
      ]
    },
    {
      "cell_type": "code",
      "source": [
        "print(type(x))"
      ],
      "metadata": {
        "colab": {
          "base_uri": "https://localhost:8080/"
        },
        "id": "7SHw5ACIx5S-",
        "outputId": "edb5e80e-b6fc-420e-832e-fd6c69e6cc3e"
      },
      "execution_count": 9,
      "outputs": [
        {
          "output_type": "stream",
          "name": "stdout",
          "text": [
            "<class 'int'>\n"
          ]
        }
      ]
    },
    {
      "cell_type": "code",
      "source": [
        "price = 26.25 #float\n",
        "print(price)"
      ],
      "metadata": {
        "colab": {
          "base_uri": "https://localhost:8080/"
        },
        "id": "SdgwedxJv2E7",
        "outputId": "a5283c5a-350d-49c7-d672-dcb8c8f0830c"
      },
      "execution_count": 1,
      "outputs": [
        {
          "output_type": "stream",
          "name": "stdout",
          "text": [
            "26.25\n"
          ]
        }
      ]
    },
    {
      "cell_type": "code",
      "source": [
        "num = 3e6 # 3 x (10)power 6\n",
        "# e = base 10\n",
        "print(num)"
      ],
      "metadata": {
        "colab": {
          "base_uri": "https://localhost:8080/"
        },
        "id": "RP5EljUHwDMi",
        "outputId": "c7effc93-0ff7-4a1f-a649-164ed6a051b3"
      },
      "execution_count": 2,
      "outputs": [
        {
          "output_type": "stream",
          "name": "stdout",
          "text": [
            "3000000.0\n"
          ]
        }
      ]
    },
    {
      "cell_type": "code",
      "source": [
        "print(type(num))"
      ],
      "metadata": {
        "colab": {
          "base_uri": "https://localhost:8080/"
        },
        "id": "rmE_ush5xqm8",
        "outputId": "48c44247-8af1-4c1d-f602-007e0d32e34f"
      },
      "execution_count": 6,
      "outputs": [
        {
          "output_type": "stream",
          "name": "stdout",
          "text": [
            "<class 'float'>\n"
          ]
        }
      ]
    },
    {
      "cell_type": "code",
      "source": [
        "# cimplex numbers\n",
        "z = 4 + 5j\n",
        "print(z)"
      ],
      "metadata": {
        "colab": {
          "base_uri": "https://localhost:8080/"
        },
        "id": "h84Nainswek2",
        "outputId": "1aa48723-19b7-496e-e0ee-0dc1320ba977"
      },
      "execution_count": 4,
      "outputs": [
        {
          "output_type": "stream",
          "name": "stdout",
          "text": [
            "(4+5j)\n"
          ]
        }
      ]
    },
    {
      "cell_type": "code",
      "source": [
        "# python provides inbuilt function type() to know the datatypes of the any value or variable\n",
        "print(type(z))"
      ],
      "metadata": {
        "colab": {
          "base_uri": "https://localhost:8080/"
        },
        "id": "oC7urgVixPK2",
        "outputId": "770916bf-943b-4b78-ff21-baa39f130d1f"
      },
      "execution_count": 5,
      "outputs": [
        {
          "output_type": "stream",
          "name": "stdout",
          "text": [
            "<class 'complex'>\n"
          ]
        }
      ]
    },
    {
      "cell_type": "code",
      "source": [
        "\n"
      ],
      "metadata": {
        "id": "uoYBoHVGyL2z"
      },
      "execution_count": null,
      "outputs": []
    },
    {
      "cell_type": "code",
      "source": [
        "print(abs(-5.2))"
      ],
      "metadata": {
        "colab": {
          "base_uri": "https://localhost:8080/"
        },
        "id": "NqV4fS73ycG6",
        "outputId": "1678dd18-9d95-49a6-f61f-b680949200ed"
      },
      "execution_count": 11,
      "outputs": [
        {
          "output_type": "stream",
          "name": "stdout",
          "text": [
            "5.2\n"
          ]
        }
      ]
    },
    {
      "cell_type": "code",
      "source": [
        "print(pow(2, 3))"
      ],
      "metadata": {
        "colab": {
          "base_uri": "https://localhost:8080/"
        },
        "id": "E1SJQqRXy3Rv",
        "outputId": "66f63e2e-0e86-4b44-d331-9a489dbe353e"
      },
      "execution_count": 12,
      "outputs": [
        {
          "output_type": "stream",
          "name": "stdout",
          "text": [
            "8\n"
          ]
        }
      ]
    },
    {
      "cell_type": "code",
      "source": [
        "print(round(4.75))\n",
        "print(round(4.5))"
      ],
      "metadata": {
        "colab": {
          "base_uri": "https://localhost:8080/"
        },
        "id": "SqgnrM1DzTGr",
        "outputId": "a7c55781-a1d3-4485-d252-dca2c1da6d75"
      },
      "execution_count": 14,
      "outputs": [
        {
          "output_type": "stream",
          "name": "stdout",
          "text": [
            "5\n",
            "4\n"
          ]
        }
      ]
    },
    {
      "cell_type": "code",
      "source": [
        "nums = [3, 1, 5, 7, 9, 1]\n",
        "print(min(nums))\n",
        "print(max(nums))\n",
        "print(sum(nums))"
      ],
      "metadata": {
        "colab": {
          "base_uri": "https://localhost:8080/"
        },
        "id": "b74KqMkE0Xnd",
        "outputId": "268cd25c-c79f-4801-83b5-7a0bca450fdd"
      },
      "execution_count": 17,
      "outputs": [
        {
          "output_type": "stream",
          "name": "stdout",
          "text": [
            "1\n",
            "9\n",
            "26\n"
          ]
        }
      ]
    },
    {
      "cell_type": "markdown",
      "source": [
        "# Some inbuilt functions in Python\n",
        "1. abs() - The abs() function is a built-in function in Python that returns the absolute value of a number. The absolute value of a number is its distance from zero on the number line. For example, the absolute value of 5 is 5, and the absolute value of -5 is also 5.\n",
        "2. pow(base, power) - The pow() function in Python calculates the power of a number. It takes two arguments: the base and the exponent.\n",
        "3. round() - The round() function in Python rounds a number to the nearest integer or decimal digit.\n",
        "Arguments:\n",
        "number: The number to be rounded.\n",
        "ndigits: (Optional) The number of decimal digits to round to. If not specified, it defaults to 0, which rounds to the nearest integer.\n",
        "\n",
        "Return Value:\n",
        "The rounded number.\n",
        "\n",
        "3. min() -\n",
        "\n",
        "4. sum() -\n",
        "\n",
        "."
      ],
      "metadata": {
        "id": "SkeLqOpB14fa"
      }
    },
    {
      "cell_type": "code",
      "source": [
        "# Sequence datatype\n",
        "# It comprises of group of elements\n",
        "# 1. String - Sequence of characters\n",
        "# 'String' - used for single line string\n",
        "# \"String\" - used for single line string\n",
        "# ''' String''' - used for multi-line string"
      ],
      "metadata": {
        "id": "ACDj3rAa0rTZ"
      },
      "execution_count": 21,
      "outputs": []
    },
    {
      "cell_type": "code",
      "source": [
        "name = 'Vishwa'\n",
        "city = \"Banglore\"\n",
        "country = '''India'''\n",
        "print(name, type(name))\n",
        "print(city, type(city))\n",
        "print(country, type(country))\n"
      ],
      "metadata": {
        "colab": {
          "base_uri": "https://localhost:8080/"
        },
        "id": "2tIuLMJz2nM0",
        "outputId": "3d99f3dc-65a5-4317-a13e-84fe5a67f7a1"
      },
      "execution_count": 24,
      "outputs": [
        {
          "output_type": "stream",
          "name": "stdout",
          "text": [
            "Vishwa <class 'str'>\n",
            "Banglore <class 'str'>\n",
            "India <class 'str'>\n"
          ]
        }
      ]
    },
    {
      "cell_type": "code",
      "source": [
        "message = '''Hello, my dear friends.\n",
        "This is my learning.'''"
      ],
      "metadata": {
        "id": "8wgPfhsP2ldr"
      },
      "execution_count": 19,
      "outputs": []
    },
    {
      "cell_type": "markdown",
      "source": [
        "Index in Strings:\n",
        "String --> \"Vishwa\"\n",
        "Index -->   012345\n"
      ],
      "metadata": {
        "id": "MUPHvH-K380M"
      }
    },
    {
      "cell_type": "code",
      "source": [
        "name = \"Vishwa Mohan\"\n",
        "\n",
        "print(name[3])"
      ],
      "metadata": {
        "colab": {
          "base_uri": "https://localhost:8080/"
        },
        "id": "4J3MZMWq41_q",
        "outputId": "e17e7e28-8609-4e5a-91ae-dfc84bbe20f4"
      },
      "execution_count": 25,
      "outputs": [
        {
          "output_type": "stream",
          "name": "stdout",
          "text": [
            "h\n"
          ]
        }
      ]
    },
    {
      "cell_type": "code",
      "source": [
        "print(name[12])\n",
        "# left to right indexing --> Positive indexing\n",
        "# range of string:\n",
        "# 0 to (lengthOfString - 1) - set of valid values for index"
      ],
      "metadata": {
        "colab": {
          "base_uri": "https://localhost:8080/",
          "height": 141
        },
        "id": "_k0VnHTB5Bdx",
        "outputId": "2f1b1f88-0242-4415-c6e1-a63cf7253c8d"
      },
      "execution_count": 26,
      "outputs": [
        {
          "output_type": "error",
          "ename": "IndexError",
          "evalue": "string index out of range",
          "traceback": [
            "\u001b[0;31m---------------------------------------------------------------------------\u001b[0m",
            "\u001b[0;31mIndexError\u001b[0m                                Traceback (most recent call last)",
            "\u001b[0;32m<ipython-input-26-2ded1f96cb70>\u001b[0m in \u001b[0;36m<cell line: 1>\u001b[0;34m()\u001b[0m\n\u001b[0;32m----> 1\u001b[0;31m \u001b[0mprint\u001b[0m\u001b[0;34m(\u001b[0m\u001b[0mname\u001b[0m\u001b[0;34m[\u001b[0m\u001b[0;36m12\u001b[0m\u001b[0;34m]\u001b[0m\u001b[0;34m)\u001b[0m\u001b[0;34m\u001b[0m\u001b[0;34m\u001b[0m\u001b[0m\n\u001b[0m",
            "\u001b[0;31mIndexError\u001b[0m: string index out of range"
          ]
        }
      ]
    },
    {
      "cell_type": "code",
      "source": [
        "name = \"Vishwa Mohan\"\n",
        "print(name[-1]) # returns character at the last position\n",
        "\n",
        "# right to left indexing --> Negative indexing\n",
        "# range of index - [-length, -1] - valid values of index\n"
      ],
      "metadata": {
        "colab": {
          "base_uri": "https://localhost:8080/"
        },
        "id": "pJZAWFfP5j5Z",
        "outputId": "979905e2-5115-4fee-f959-81d5e493c72d"
      },
      "execution_count": 30,
      "outputs": [
        {
          "output_type": "stream",
          "name": "stdout",
          "text": [
            "n\n"
          ]
        }
      ]
    },
    {
      "cell_type": "code",
      "source": [
        "# String is Immutable\n",
        "# changing the stribg is not allowed in Python\n",
        "\n",
        "str = \"Vishwa\"\n",
        "\n",
        "str[0] = \"X\" # this is not allowed as strings ae immutable\n"
      ],
      "metadata": {
        "colab": {
          "base_uri": "https://localhost:8080/",
          "height": 176
        },
        "id": "_SQ_KGtR6qnS",
        "outputId": "94eba273-1a04-4473-f64c-73ec9869567a"
      },
      "execution_count": 31,
      "outputs": [
        {
          "output_type": "error",
          "ename": "TypeError",
          "evalue": "'str' object does not support item assignment",
          "traceback": [
            "\u001b[0;31m---------------------------------------------------------------------------\u001b[0m",
            "\u001b[0;31mTypeError\u001b[0m                                 Traceback (most recent call last)",
            "\u001b[0;32m<ipython-input-31-e2c23e16bdd9>\u001b[0m in \u001b[0;36m<cell line: 6>\u001b[0;34m()\u001b[0m\n\u001b[1;32m      4\u001b[0m \u001b[0mstr\u001b[0m \u001b[0;34m=\u001b[0m \u001b[0;34m\"Vishwa\"\u001b[0m\u001b[0;34m\u001b[0m\u001b[0;34m\u001b[0m\u001b[0m\n\u001b[1;32m      5\u001b[0m \u001b[0;34m\u001b[0m\u001b[0m\n\u001b[0;32m----> 6\u001b[0;31m \u001b[0mstr\u001b[0m\u001b[0;34m[\u001b[0m\u001b[0;36m0\u001b[0m\u001b[0;34m]\u001b[0m \u001b[0;34m=\u001b[0m \u001b[0;34m\"X\"\u001b[0m\u001b[0;34m\u001b[0m\u001b[0;34m\u001b[0m\u001b[0m\n\u001b[0m",
            "\u001b[0;31mTypeError\u001b[0m: 'str' object does not support item assignment"
          ]
        }
      ]
    },
    {
      "cell_type": "code",
      "source": [
        "# Concatenation of Strings\n",
        "# Conatenation operator : +\n",
        "\n",
        "first_name = \"Vishwa\"\n",
        "last_name = \"Mohan\"\n",
        "\n",
        "complete_name = first_name + \" \" + last_name\n",
        "\n",
        "print(complete_name)"
      ],
      "metadata": {
        "colab": {
          "base_uri": "https://localhost:8080/"
        },
        "id": "KfU7uWyV_9dj",
        "outputId": "9dcc2541-e78f-48b1-ebe2-3b110ee0470e"
      },
      "execution_count": 32,
      "outputs": [
        {
          "output_type": "stream",
          "name": "stdout",
          "text": [
            "Vishwa Mohan\n"
          ]
        }
      ]
    },
    {
      "cell_type": "code",
      "source": [
        "# length of the string\n",
        "# Using len() function - it tell the size of string\n",
        "                      #  - it tells the count of characters in String\n",
        "\n",
        "print(len(complete_name))\n",
        "\n",
        "# 26 minutes done for this lecture"
      ],
      "metadata": {
        "colab": {
          "base_uri": "https://localhost:8080/"
        },
        "id": "kJkv0TRJAhAq",
        "outputId": "868f5800-ec4d-4848-f87c-0d5273dd80fa"
      },
      "execution_count": 34,
      "outputs": [
        {
          "output_type": "stream",
          "name": "stdout",
          "text": [
            "12\n"
          ]
        }
      ]
    }
  ]
}